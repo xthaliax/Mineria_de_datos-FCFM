{
 "cells": [
  {
   "cell_type": "markdown",
   "source": [
    " # <font color = 'navy'> Primer avance PIA</font>\n"
   ],
   "metadata": {}
  },
  {
   "cell_type": "markdown",
   "source": [
    "##  <font color = 'Green'> Minería de datos </font>"
   ],
   "metadata": {}
  },
  {
   "cell_type": "markdown",
   "source": [
    "### Equipo 3: \n",
    "###      • Ricardo González Berumen     1941497 \n",
    "###      • José Claudio Gaytán Gutiérrez     1855455 \n",
    "###      • Ruy Aramis López Verduzco     1863861 \n",
    "###      • Nancy Janeth Rodríguez Pacheco     1845816 \n",
    "###      • Thalía Ruiz Espitia     1941494 \n",
    "\n"
   ],
   "metadata": {}
  },
  {
   "cell_type": "markdown",
   "source": [
    "##  <font color = 'Orange'> Título de la base de datos </font>"
   ],
   "metadata": {}
  },
  {
   "cell_type": "markdown",
   "source": [
    "La base de datos está titulada como “Equity Residential Apartment Data”, esta fue consultada en el portal de Kaggle.com, teniendo como URL el siguiente: https://www.kaggle.com/jackogozaly/equity-residential-apartment-data"
   ],
   "metadata": {}
  },
  {
   "cell_type": "markdown",
   "source": [
    "##  <font color = 'Orange'> Introducción general </font>"
   ],
   "metadata": {}
  },
  {
   "cell_type": "markdown",
   "source": [
    "El derecho a una vivienda adecuada es un derecho humano reconocido en la normativa internacional de los derechos humanos como elemento integrante del derecho a un nivel de vida adecuado. Sin embargo, el tener un lugar para vivir puede ser complicado en algunos casos; ya que existen muchos factores que desempeñan un papel en algo tan vital como lo es la elección de un lugar para vivir; ya sea la localización, el área construida, el número de cuartos y baños, los extras tales como closets, jardines, chimeneas, la vista panorámica etcétera. Todas estas características son determinantes para el precio que finalmente el aspirante a propietario o inquilino tendrá que pagar.\n",
    "\n",
    "Durante los pasados 20 años el precio de las viviendas en las principales economías industrializadas ha crecido sostenidamente. Sin embargo, la carencia de series largas y sistemáticas de precios ha dificultado un análisis pormenorizado de los determinantes de dicha evolución, lo cual contrasta con la relevancia macro financiera de este tema. En primer lugar, la vivienda representa el principal activo para los hogares, por lo que cambios en su valoración afectan las hojas de equilibrio de las familias, y por ende, su comportamiento de gasto. Segundo, los activos inmobiliarios representan una partida relevante dentro de la balanza de las instituciones financieras lo que implica que la evolución de este sector es relevante para el sistema financiero y su estabilidad. Por último, los precios de las viviendas —al igual que los precios de otros activos— podrían verse influidos por las tasas de interés, estableciéndose de este modo un canal de trasmisión de la política monetaria.\n",
    "\n",
    "Estos datos contienen aproximadamente un mes de datos de edificios de apartamentos en todo Estados Unidos propiedad de Equity Residential. Este conjunto de datos contiene datos de apartamentos desde el 25 de junio de 2021 hasta el 17 de julio de 2021. Incluidos todos los complejos de apartamentos propiedad de Equity Residential. Incluye datos como el precio de alquiler diario, dormitorios, baños, ubicación, comodidades del apartamento, tasa de disponibilidad del apartamento, día registrado y fecha de mudanza.\n"
   ],
   "metadata": {}
  },
  {
   "cell_type": "markdown",
   "source": [
    "##  <font color = 'Orange'> Descripción de datos </font>"
   ],
   "metadata": {}
  },
  {
   "cell_type": "markdown",
   "source": [
    "Los datos que se encuentran en esta base de datos están organizados en forma de una tabla en un archivo CSV, un tipo de documento en formato abierto sencillo para representar datos en forma de tabla, en las que las columnas se separan por comas y las filas por saltos de línea.\n",
    "\n",
    "La manera en que están organizados los datos es la siguiente: En filas se encuentran cada una de las observaciones o eventos, mientras que en las columnas se sitúan las características observadas para cada una de dichas observaciones. Como características tenemos las siguientes:\n"
   ],
   "metadata": {}
  },
  {
   "cell_type": "markdown",
   "source": [
    "•\tPrecio.\n",
    "\n",
    "•\tCamas.\n",
    "\n",
    "•\tBaños.\n",
    "\n",
    "•\tPies cuadrados.\n",
    "\n",
    "•\tCiudad.\n",
    "\n",
    "•\tAmenidades.\n",
    "\n",
    "•\tDirección.\n",
    "\n",
    "•\tNombre de apartamentos.\n",
    "\n",
    "•\tNúmero de balcones.\n",
    "\n",
    "•\tURL del sitio de apartamentos.\n",
    "\n",
    "•\tNúmero de piso.\n",
    "\n",
    "•\tVacancia estimada.\n",
    "\n",
    "•\tNúmero de armarios.\n",
    "\n",
    "•\tRenovaciones.\n",
    "\n",
    "•\tChimeneas.\n",
    "\n",
    "•\tDías para disponibilidad.\n",
    "\n",
    "•\tEspacio de oficina.\n",
    "\n",
    "•\tAccesorios sin manchas.\n",
    "\n",
    "•\tHorizonte de la ciudad.\n",
    "\n",
    "•\tIsla de cocina.\n",
    "\n",
    "•\tAsoleamiento del norte/sur/este/oeste.\n",
    "\n",
    "•\tUnidades.\n",
    "\n",
    "•\tID de edificio y unidad.\n",
    "\n",
    "•\tDía de alquiler.\n",
    "\n"
   ],
   "metadata": {}
  },
  {
   "cell_type": "markdown",
   "source": [
    "##  <font color = 'Orange'> Justificación del uso de datos </font>"
   ],
   "metadata": {}
  },
  {
   "cell_type": "markdown",
   "source": [
    "El tema en particular es bastante práctico y fácilmente aplicable a un contexto actual, ya que, como se ha mencionado anteriormente, la vivienda y sus precios es un problema actual muy real. Elegimos esta base de datos debido a lo concisa y fácilmente aplicable que es para generar una problemático; además de que los datos están situados en un solo documento y están bien organizados, lo cual hace fácil trabajar con ellos.\n",
    "\n",
    "Entre los beneficios que tenemos de trabajar con este conjunto de datos están la facilidad de interpretación, debido a que el único obstáculo relativamente hablando es la barrera del idioma, puesto que los datos se encuentran en inglés. Otra ventaja es la simplicidad de las categorías, ya que son conceptos fáciles de entender como direcciones, número de baños, etcétera. Finalmente, podemos obtener con este proyecto una vista más clara a la economía que rodea a la industria inmobiliaria y los costos asociados a esta.\n"
   ],
   "metadata": {}
  },
  {
   "cell_type": "markdown",
   "source": [
    "##  <font color = 'Orange'> Objetivo principal </font>"
   ],
   "metadata": {}
  },
  {
   "cell_type": "markdown",
   "source": [
    "Como objetivo principal planteamos el elaborar una correlación entre las distintas características de un apartamento y su precio de alquiler. De ser posible, otro objetivo de este proyecto era intentar aplicar ingeniería inversa para generar un algoritmo que cambie los precios de los apartamentos a diario en una simulación. Finalmente, también se aspira a explicar las fluctuaciones en el precio del apartamento."
   ],
   "metadata": {}
  },
  {
   "cell_type": "markdown",
   "source": [
    "##  <font color = 'Orange'> Preguntas de interes </font>"
   ],
   "metadata": {}
  },
  {
   "cell_type": "markdown",
   "source": [
    "1.\t¿El precio de un apartamento está directamente ligado a la localización de este mismo? \n",
    "\n",
    "2.\t¿El asoleamiento de un departamento es relevante al precio de alquiler?\n",
    "\n",
    "3.\t¿El contar con una chimenea incrementa o disminuye el precio de alquiler de un apartamento?\t\n"
   ],
   "metadata": {}
  },
  {
   "cell_type": "markdown",
   "source": [
    "##  <font color = 'Orange'> Bibliografía </font>"
   ],
   "metadata": {}
  },
  {
   "cell_type": "markdown",
   "source": [
    "Ogozaly, J. (21 de Agosto de 2021). Equity Residential Apartment Data. Obtenido de Kaggle: https://www.kaggle.com/jackogozaly/equity-residential-apartment-data\n",
    "\n"
   ],
   "metadata": {}
  },
  {
   "cell_type": "markdown",
   "source": [
    "##  <font color = 'Orange'> Preparación de los datos </font>"
   ],
   "metadata": {}
  },
  {
   "cell_type": "markdown",
   "source": [
    "##  <font color = 'red'> Base primaria </font>"
   ],
   "metadata": {}
  },
  {
   "cell_type": "markdown",
   "source": [
    "Importando las librerías y abriendo la base de datos"
   ],
   "metadata": {}
  },
  {
   "cell_type": "code",
   "execution_count": 1,
   "source": [
    "import pandas as pd\r\n",
    "import numpy as np\r\n",
    "\r\n",
    "dat_ap = pd.read_csv(\"apartamentos.csv\")"
   ],
   "outputs": [],
   "metadata": {}
  },
  {
   "cell_type": "markdown",
   "source": [
    "Dimensión de la base de datos"
   ],
   "metadata": {}
  },
  {
   "cell_type": "code",
   "execution_count": 2,
   "source": [
    "dat_ap.shape"
   ],
   "outputs": [
    {
     "output_type": "execute_result",
     "data": {
      "text/plain": [
       "(62810, 32)"
      ]
     },
     "metadata": {},
     "execution_count": 2
    }
   ],
   "metadata": {}
  },
  {
   "cell_type": "markdown",
   "source": [
    "Vista de la tabla en los primeros 5 datos"
   ],
   "metadata": {}
  },
  {
   "cell_type": "code",
   "execution_count": 3,
   "source": [
    "dat_ap.head()"
   ],
   "outputs": [
    {
     "output_type": "execute_result",
     "data": {
      "text/plain": [
       "   Unnamed: 0  Price  Beds  Baths  sq.ft  Floor Move_in_date building_id  \\\n",
       "0           1   2377     0    1.0    523      5   2021-09-02          01   \n",
       "1           2   2816     1    1.0    713      2   2021-09-13          01   \n",
       "2           3   3811     2    2.0   1252      6   2021-10-08          01   \n",
       "3           4   1549     0    1.0    456      2   2021-09-17           1   \n",
       "4           5   1753     1    1.0    580      3   2021-10-05           1   \n",
       "\n",
       "    unit_id                                                URL  ... Fireplace  \\\n",
       "0      0507  https://www.equityapartments.com/washington-dc...  ...       0.0   \n",
       "1      0204  https://www.equityapartments.com/washington-dc...  ...       0.0   \n",
       "2      0608  https://www.equityapartments.com/washington-dc...  ...       1.0   \n",
       "3  256 \\r\\n  https://www.equityapartments.com/washington-dc...  ...       0.0   \n",
       "4  337 \\r\\n  https://www.equityapartments.com/washington-dc...  ...       0.0   \n",
       "\n",
       "  City_Skyline Kitchen_Island Stainless_Appliances Renovated  Office_Space  \\\n",
       "0          0.0            0.0                  1.0       1.0           0.0   \n",
       "1          0.0            0.0                  1.0       1.0           0.0   \n",
       "2          0.0            0.0                  0.0       0.0           0.0   \n",
       "3          0.0            0.0                  0.0       0.0           0.0   \n",
       "4          0.0            0.0                  0.0       0.0           0.0   \n",
       "\n",
       "   Days_Till_Available  Day_of_the_week_recorded                   Unique_ID  \\\n",
       "0                 47.0                 Wednesday    0105071210MassApartments   \n",
       "1                 58.0                 Wednesday    0102041210MassApartments   \n",
       "2                 83.0                 Wednesday    0106081210MassApartments   \n",
       "3                 62.0                 Wednesday  1256\\r\\n1500MassApartments   \n",
       "4                 80.0                 Wednesday  1337\\r\\n1500MassApartments   \n",
       "\n",
       "   Estiamted_Vacancy  \n",
       "0           0.020833  \n",
       "1           0.020833  \n",
       "2           0.020833  \n",
       "3           0.003597  \n",
       "4           0.003597  \n",
       "\n",
       "[5 rows x 32 columns]"
      ],
      "text/html": [
       "<div>\n",
       "<style scoped>\n",
       "    .dataframe tbody tr th:only-of-type {\n",
       "        vertical-align: middle;\n",
       "    }\n",
       "\n",
       "    .dataframe tbody tr th {\n",
       "        vertical-align: top;\n",
       "    }\n",
       "\n",
       "    .dataframe thead th {\n",
       "        text-align: right;\n",
       "    }\n",
       "</style>\n",
       "<table border=\"1\" class=\"dataframe\">\n",
       "  <thead>\n",
       "    <tr style=\"text-align: right;\">\n",
       "      <th></th>\n",
       "      <th>Unnamed: 0</th>\n",
       "      <th>Price</th>\n",
       "      <th>Beds</th>\n",
       "      <th>Baths</th>\n",
       "      <th>sq.ft</th>\n",
       "      <th>Floor</th>\n",
       "      <th>Move_in_date</th>\n",
       "      <th>building_id</th>\n",
       "      <th>unit_id</th>\n",
       "      <th>URL</th>\n",
       "      <th>...</th>\n",
       "      <th>Fireplace</th>\n",
       "      <th>City_Skyline</th>\n",
       "      <th>Kitchen_Island</th>\n",
       "      <th>Stainless_Appliances</th>\n",
       "      <th>Renovated</th>\n",
       "      <th>Office_Space</th>\n",
       "      <th>Days_Till_Available</th>\n",
       "      <th>Day_of_the_week_recorded</th>\n",
       "      <th>Unique_ID</th>\n",
       "      <th>Estiamted_Vacancy</th>\n",
       "    </tr>\n",
       "  </thead>\n",
       "  <tbody>\n",
       "    <tr>\n",
       "      <th>0</th>\n",
       "      <td>1</td>\n",
       "      <td>2377</td>\n",
       "      <td>0</td>\n",
       "      <td>1.0</td>\n",
       "      <td>523</td>\n",
       "      <td>5</td>\n",
       "      <td>2021-09-02</td>\n",
       "      <td>01</td>\n",
       "      <td>0507</td>\n",
       "      <td>https://www.equityapartments.com/washington-dc...</td>\n",
       "      <td>...</td>\n",
       "      <td>0.0</td>\n",
       "      <td>0.0</td>\n",
       "      <td>0.0</td>\n",
       "      <td>1.0</td>\n",
       "      <td>1.0</td>\n",
       "      <td>0.0</td>\n",
       "      <td>47.0</td>\n",
       "      <td>Wednesday</td>\n",
       "      <td>0105071210MassApartments</td>\n",
       "      <td>0.020833</td>\n",
       "    </tr>\n",
       "    <tr>\n",
       "      <th>1</th>\n",
       "      <td>2</td>\n",
       "      <td>2816</td>\n",
       "      <td>1</td>\n",
       "      <td>1.0</td>\n",
       "      <td>713</td>\n",
       "      <td>2</td>\n",
       "      <td>2021-09-13</td>\n",
       "      <td>01</td>\n",
       "      <td>0204</td>\n",
       "      <td>https://www.equityapartments.com/washington-dc...</td>\n",
       "      <td>...</td>\n",
       "      <td>0.0</td>\n",
       "      <td>0.0</td>\n",
       "      <td>0.0</td>\n",
       "      <td>1.0</td>\n",
       "      <td>1.0</td>\n",
       "      <td>0.0</td>\n",
       "      <td>58.0</td>\n",
       "      <td>Wednesday</td>\n",
       "      <td>0102041210MassApartments</td>\n",
       "      <td>0.020833</td>\n",
       "    </tr>\n",
       "    <tr>\n",
       "      <th>2</th>\n",
       "      <td>3</td>\n",
       "      <td>3811</td>\n",
       "      <td>2</td>\n",
       "      <td>2.0</td>\n",
       "      <td>1252</td>\n",
       "      <td>6</td>\n",
       "      <td>2021-10-08</td>\n",
       "      <td>01</td>\n",
       "      <td>0608</td>\n",
       "      <td>https://www.equityapartments.com/washington-dc...</td>\n",
       "      <td>...</td>\n",
       "      <td>1.0</td>\n",
       "      <td>0.0</td>\n",
       "      <td>0.0</td>\n",
       "      <td>0.0</td>\n",
       "      <td>0.0</td>\n",
       "      <td>0.0</td>\n",
       "      <td>83.0</td>\n",
       "      <td>Wednesday</td>\n",
       "      <td>0106081210MassApartments</td>\n",
       "      <td>0.020833</td>\n",
       "    </tr>\n",
       "    <tr>\n",
       "      <th>3</th>\n",
       "      <td>4</td>\n",
       "      <td>1549</td>\n",
       "      <td>0</td>\n",
       "      <td>1.0</td>\n",
       "      <td>456</td>\n",
       "      <td>2</td>\n",
       "      <td>2021-09-17</td>\n",
       "      <td>1</td>\n",
       "      <td>256 \\r\\n</td>\n",
       "      <td>https://www.equityapartments.com/washington-dc...</td>\n",
       "      <td>...</td>\n",
       "      <td>0.0</td>\n",
       "      <td>0.0</td>\n",
       "      <td>0.0</td>\n",
       "      <td>0.0</td>\n",
       "      <td>0.0</td>\n",
       "      <td>0.0</td>\n",
       "      <td>62.0</td>\n",
       "      <td>Wednesday</td>\n",
       "      <td>1256\\r\\n1500MassApartments</td>\n",
       "      <td>0.003597</td>\n",
       "    </tr>\n",
       "    <tr>\n",
       "      <th>4</th>\n",
       "      <td>5</td>\n",
       "      <td>1753</td>\n",
       "      <td>1</td>\n",
       "      <td>1.0</td>\n",
       "      <td>580</td>\n",
       "      <td>3</td>\n",
       "      <td>2021-10-05</td>\n",
       "      <td>1</td>\n",
       "      <td>337 \\r\\n</td>\n",
       "      <td>https://www.equityapartments.com/washington-dc...</td>\n",
       "      <td>...</td>\n",
       "      <td>0.0</td>\n",
       "      <td>0.0</td>\n",
       "      <td>0.0</td>\n",
       "      <td>0.0</td>\n",
       "      <td>0.0</td>\n",
       "      <td>0.0</td>\n",
       "      <td>80.0</td>\n",
       "      <td>Wednesday</td>\n",
       "      <td>1337\\r\\n1500MassApartments</td>\n",
       "      <td>0.003597</td>\n",
       "    </tr>\n",
       "  </tbody>\n",
       "</table>\n",
       "<p>5 rows × 32 columns</p>\n",
       "</div>"
      ]
     },
     "metadata": {},
     "execution_count": 3
    }
   ],
   "metadata": {}
  },
  {
   "cell_type": "markdown",
   "source": [
    "Nombre de los encabezados de las columnas"
   ],
   "metadata": {}
  },
  {
   "cell_type": "code",
   "execution_count": 4,
   "source": [
    "dat_ap.columns"
   ],
   "outputs": [
    {
     "output_type": "execute_result",
     "data": {
      "text/plain": [
       "Index(['Unnamed: 0', 'Price', 'Beds', 'Baths', 'sq.ft', 'Floor',\n",
       "       'Move_in_date', 'building_id', 'unit_id', 'URL', 'Day_Recorded',\n",
       "       'Amenity', 'Apartment Name', 'Address', 'City', 'Units',\n",
       "       'Northern_Exposure', 'Southern_Exposure', 'Eastern_Exposure',\n",
       "       'Western_Exposure', 'Balcony', 'Walk_In_Closet', 'Fireplace',\n",
       "       'City_Skyline', 'Kitchen_Island', 'Stainless_Appliances', 'Renovated',\n",
       "       'Office_Space', 'Days_Till_Available', 'Day_of_the_week_recorded',\n",
       "       'Unique_ID', 'Estiamted_Vacancy'],\n",
       "      dtype='object')"
      ]
     },
     "metadata": {},
     "execution_count": 4
    }
   ],
   "metadata": {}
  },
  {
   "cell_type": "markdown",
   "source": [
    "Tipos de datos existentes en las columnas"
   ],
   "metadata": {}
  },
  {
   "cell_type": "code",
   "execution_count": null,
   "source": [
    "dat_ap.dtypes"
   ],
   "outputs": [],
   "metadata": {}
  },
  {
   "cell_type": "markdown",
   "source": [
    "Cambio de nombre en columnas"
   ],
   "metadata": {}
  },
  {
   "cell_type": "code",
   "execution_count": 5,
   "source": [
    "dat_ap.rename(columns = {'Unnamed: 0':'Index'})"
   ],
   "outputs": [
    {
     "output_type": "execute_result",
     "data": {
      "text/plain": [
       "       Index  Price  Beds  Baths  sq.ft  Floor Move_in_date building_id  \\\n",
       "0          1   2377     0    1.0    523      5   2021-09-02          01   \n",
       "1          2   2816     1    1.0    713      2   2021-09-13          01   \n",
       "2          3   3811     2    2.0   1252      6   2021-10-08          01   \n",
       "3          4   1549     0    1.0    456      2   2021-09-17           1   \n",
       "4          5   1753     1    1.0    580      3   2021-10-05           1   \n",
       "...      ...    ...   ...    ...    ...    ...          ...         ...   \n",
       "62805  62806   3062     2    2.0   1203      6   2021-06-29         NaN   \n",
       "62806  62807   3150     2    2.0   1203      5   2021-07-17         NaN   \n",
       "62807  62808   3154     2    2.0   1080     19   2021-07-27         NaN   \n",
       "62808  62809   3158     2    2.0   1209      7   2021-08-21         NaN   \n",
       "62809  62810   3226     2    2.0   1080     18   2021-07-21         NaN   \n",
       "\n",
       "        unit_id                                                URL  ...  \\\n",
       "0          0507  https://www.equityapartments.com/washington-dc...  ...   \n",
       "1          0204  https://www.equityapartments.com/washington-dc...  ...   \n",
       "2          0608  https://www.equityapartments.com/washington-dc...  ...   \n",
       "3      256 \\r\\n  https://www.equityapartments.com/washington-dc...  ...   \n",
       "4      337 \\r\\n  https://www.equityapartments.com/washington-dc...  ...   \n",
       "...         ...                                                ...  ...   \n",
       "62805       NaN  https://www.equityapartments.com/arlington/cou...  ...   \n",
       "62806       NaN  https://www.equityapartments.com/arlington/cou...  ...   \n",
       "62807       NaN  https://www.equityapartments.com/arlington/cou...  ...   \n",
       "62808       NaN  https://www.equityapartments.com/arlington/cou...  ...   \n",
       "62809       NaN  https://www.equityapartments.com/arlington/cou...  ...   \n",
       "\n",
       "      Fireplace City_Skyline Kitchen_Island Stainless_Appliances Renovated  \\\n",
       "0           0.0          0.0            0.0                  1.0       1.0   \n",
       "1           0.0          0.0            0.0                  1.0       1.0   \n",
       "2           1.0          0.0            0.0                  0.0       0.0   \n",
       "3           0.0          0.0            0.0                  0.0       0.0   \n",
       "4           0.0          0.0            0.0                  0.0       0.0   \n",
       "...         ...          ...            ...                  ...       ...   \n",
       "62805       0.0          0.0            0.0                  0.0       0.0   \n",
       "62806       0.0          0.0            0.0                  0.0       0.0   \n",
       "62807       0.0          0.0            0.0                  0.0       0.0   \n",
       "62808       0.0          0.0            0.0                  0.0       0.0   \n",
       "62809       0.0          0.0            0.0                  0.0       0.0   \n",
       "\n",
       "       Office_Space  Days_Till_Available  Day_of_the_week_recorded  \\\n",
       "0               0.0                 47.0                 Wednesday   \n",
       "1               0.0                 58.0                 Wednesday   \n",
       "2               0.0                 83.0                 Wednesday   \n",
       "3               0.0                 62.0                 Wednesday   \n",
       "4               0.0                 80.0                 Wednesday   \n",
       "...             ...                  ...                       ...   \n",
       "62805           0.0                 13.0                    Sunday   \n",
       "62806           0.0                 31.0                    Sunday   \n",
       "62807           0.0                 41.0                    Sunday   \n",
       "62808           0.0                 66.0                    Sunday   \n",
       "62809           0.0                 35.0                    Sunday   \n",
       "\n",
       "                        Unique_ID  Estiamted_Vacancy  \n",
       "0        0105071210MassApartments           0.020833  \n",
       "1        0102041210MassApartments           0.020833  \n",
       "2        0106081210MassApartments           0.020833  \n",
       "3      1256\\r\\n1500MassApartments           0.003597  \n",
       "4      1337\\r\\n1500MassApartments           0.003597  \n",
       "...                           ...                ...  \n",
       "62805                         NaN           0.032828  \n",
       "62806                         NaN           0.032828  \n",
       "62807                         NaN           0.032828  \n",
       "62808                         NaN           0.032828  \n",
       "62809                         NaN           0.032828  \n",
       "\n",
       "[62810 rows x 32 columns]"
      ],
      "text/html": [
       "<div>\n",
       "<style scoped>\n",
       "    .dataframe tbody tr th:only-of-type {\n",
       "        vertical-align: middle;\n",
       "    }\n",
       "\n",
       "    .dataframe tbody tr th {\n",
       "        vertical-align: top;\n",
       "    }\n",
       "\n",
       "    .dataframe thead th {\n",
       "        text-align: right;\n",
       "    }\n",
       "</style>\n",
       "<table border=\"1\" class=\"dataframe\">\n",
       "  <thead>\n",
       "    <tr style=\"text-align: right;\">\n",
       "      <th></th>\n",
       "      <th>Index</th>\n",
       "      <th>Price</th>\n",
       "      <th>Beds</th>\n",
       "      <th>Baths</th>\n",
       "      <th>sq.ft</th>\n",
       "      <th>Floor</th>\n",
       "      <th>Move_in_date</th>\n",
       "      <th>building_id</th>\n",
       "      <th>unit_id</th>\n",
       "      <th>URL</th>\n",
       "      <th>...</th>\n",
       "      <th>Fireplace</th>\n",
       "      <th>City_Skyline</th>\n",
       "      <th>Kitchen_Island</th>\n",
       "      <th>Stainless_Appliances</th>\n",
       "      <th>Renovated</th>\n",
       "      <th>Office_Space</th>\n",
       "      <th>Days_Till_Available</th>\n",
       "      <th>Day_of_the_week_recorded</th>\n",
       "      <th>Unique_ID</th>\n",
       "      <th>Estiamted_Vacancy</th>\n",
       "    </tr>\n",
       "  </thead>\n",
       "  <tbody>\n",
       "    <tr>\n",
       "      <th>0</th>\n",
       "      <td>1</td>\n",
       "      <td>2377</td>\n",
       "      <td>0</td>\n",
       "      <td>1.0</td>\n",
       "      <td>523</td>\n",
       "      <td>5</td>\n",
       "      <td>2021-09-02</td>\n",
       "      <td>01</td>\n",
       "      <td>0507</td>\n",
       "      <td>https://www.equityapartments.com/washington-dc...</td>\n",
       "      <td>...</td>\n",
       "      <td>0.0</td>\n",
       "      <td>0.0</td>\n",
       "      <td>0.0</td>\n",
       "      <td>1.0</td>\n",
       "      <td>1.0</td>\n",
       "      <td>0.0</td>\n",
       "      <td>47.0</td>\n",
       "      <td>Wednesday</td>\n",
       "      <td>0105071210MassApartments</td>\n",
       "      <td>0.020833</td>\n",
       "    </tr>\n",
       "    <tr>\n",
       "      <th>1</th>\n",
       "      <td>2</td>\n",
       "      <td>2816</td>\n",
       "      <td>1</td>\n",
       "      <td>1.0</td>\n",
       "      <td>713</td>\n",
       "      <td>2</td>\n",
       "      <td>2021-09-13</td>\n",
       "      <td>01</td>\n",
       "      <td>0204</td>\n",
       "      <td>https://www.equityapartments.com/washington-dc...</td>\n",
       "      <td>...</td>\n",
       "      <td>0.0</td>\n",
       "      <td>0.0</td>\n",
       "      <td>0.0</td>\n",
       "      <td>1.0</td>\n",
       "      <td>1.0</td>\n",
       "      <td>0.0</td>\n",
       "      <td>58.0</td>\n",
       "      <td>Wednesday</td>\n",
       "      <td>0102041210MassApartments</td>\n",
       "      <td>0.020833</td>\n",
       "    </tr>\n",
       "    <tr>\n",
       "      <th>2</th>\n",
       "      <td>3</td>\n",
       "      <td>3811</td>\n",
       "      <td>2</td>\n",
       "      <td>2.0</td>\n",
       "      <td>1252</td>\n",
       "      <td>6</td>\n",
       "      <td>2021-10-08</td>\n",
       "      <td>01</td>\n",
       "      <td>0608</td>\n",
       "      <td>https://www.equityapartments.com/washington-dc...</td>\n",
       "      <td>...</td>\n",
       "      <td>1.0</td>\n",
       "      <td>0.0</td>\n",
       "      <td>0.0</td>\n",
       "      <td>0.0</td>\n",
       "      <td>0.0</td>\n",
       "      <td>0.0</td>\n",
       "      <td>83.0</td>\n",
       "      <td>Wednesday</td>\n",
       "      <td>0106081210MassApartments</td>\n",
       "      <td>0.020833</td>\n",
       "    </tr>\n",
       "    <tr>\n",
       "      <th>3</th>\n",
       "      <td>4</td>\n",
       "      <td>1549</td>\n",
       "      <td>0</td>\n",
       "      <td>1.0</td>\n",
       "      <td>456</td>\n",
       "      <td>2</td>\n",
       "      <td>2021-09-17</td>\n",
       "      <td>1</td>\n",
       "      <td>256 \\r\\n</td>\n",
       "      <td>https://www.equityapartments.com/washington-dc...</td>\n",
       "      <td>...</td>\n",
       "      <td>0.0</td>\n",
       "      <td>0.0</td>\n",
       "      <td>0.0</td>\n",
       "      <td>0.0</td>\n",
       "      <td>0.0</td>\n",
       "      <td>0.0</td>\n",
       "      <td>62.0</td>\n",
       "      <td>Wednesday</td>\n",
       "      <td>1256\\r\\n1500MassApartments</td>\n",
       "      <td>0.003597</td>\n",
       "    </tr>\n",
       "    <tr>\n",
       "      <th>4</th>\n",
       "      <td>5</td>\n",
       "      <td>1753</td>\n",
       "      <td>1</td>\n",
       "      <td>1.0</td>\n",
       "      <td>580</td>\n",
       "      <td>3</td>\n",
       "      <td>2021-10-05</td>\n",
       "      <td>1</td>\n",
       "      <td>337 \\r\\n</td>\n",
       "      <td>https://www.equityapartments.com/washington-dc...</td>\n",
       "      <td>...</td>\n",
       "      <td>0.0</td>\n",
       "      <td>0.0</td>\n",
       "      <td>0.0</td>\n",
       "      <td>0.0</td>\n",
       "      <td>0.0</td>\n",
       "      <td>0.0</td>\n",
       "      <td>80.0</td>\n",
       "      <td>Wednesday</td>\n",
       "      <td>1337\\r\\n1500MassApartments</td>\n",
       "      <td>0.003597</td>\n",
       "    </tr>\n",
       "    <tr>\n",
       "      <th>...</th>\n",
       "      <td>...</td>\n",
       "      <td>...</td>\n",
       "      <td>...</td>\n",
       "      <td>...</td>\n",
       "      <td>...</td>\n",
       "      <td>...</td>\n",
       "      <td>...</td>\n",
       "      <td>...</td>\n",
       "      <td>...</td>\n",
       "      <td>...</td>\n",
       "      <td>...</td>\n",
       "      <td>...</td>\n",
       "      <td>...</td>\n",
       "      <td>...</td>\n",
       "      <td>...</td>\n",
       "      <td>...</td>\n",
       "      <td>...</td>\n",
       "      <td>...</td>\n",
       "      <td>...</td>\n",
       "      <td>...</td>\n",
       "      <td>...</td>\n",
       "    </tr>\n",
       "    <tr>\n",
       "      <th>62805</th>\n",
       "      <td>62806</td>\n",
       "      <td>3062</td>\n",
       "      <td>2</td>\n",
       "      <td>2.0</td>\n",
       "      <td>1203</td>\n",
       "      <td>6</td>\n",
       "      <td>2021-06-29</td>\n",
       "      <td>NaN</td>\n",
       "      <td>NaN</td>\n",
       "      <td>https://www.equityapartments.com/arlington/cou...</td>\n",
       "      <td>...</td>\n",
       "      <td>0.0</td>\n",
       "      <td>0.0</td>\n",
       "      <td>0.0</td>\n",
       "      <td>0.0</td>\n",
       "      <td>0.0</td>\n",
       "      <td>0.0</td>\n",
       "      <td>13.0</td>\n",
       "      <td>Sunday</td>\n",
       "      <td>NaN</td>\n",
       "      <td>0.032828</td>\n",
       "    </tr>\n",
       "    <tr>\n",
       "      <th>62806</th>\n",
       "      <td>62807</td>\n",
       "      <td>3150</td>\n",
       "      <td>2</td>\n",
       "      <td>2.0</td>\n",
       "      <td>1203</td>\n",
       "      <td>5</td>\n",
       "      <td>2021-07-17</td>\n",
       "      <td>NaN</td>\n",
       "      <td>NaN</td>\n",
       "      <td>https://www.equityapartments.com/arlington/cou...</td>\n",
       "      <td>...</td>\n",
       "      <td>0.0</td>\n",
       "      <td>0.0</td>\n",
       "      <td>0.0</td>\n",
       "      <td>0.0</td>\n",
       "      <td>0.0</td>\n",
       "      <td>0.0</td>\n",
       "      <td>31.0</td>\n",
       "      <td>Sunday</td>\n",
       "      <td>NaN</td>\n",
       "      <td>0.032828</td>\n",
       "    </tr>\n",
       "    <tr>\n",
       "      <th>62807</th>\n",
       "      <td>62808</td>\n",
       "      <td>3154</td>\n",
       "      <td>2</td>\n",
       "      <td>2.0</td>\n",
       "      <td>1080</td>\n",
       "      <td>19</td>\n",
       "      <td>2021-07-27</td>\n",
       "      <td>NaN</td>\n",
       "      <td>NaN</td>\n",
       "      <td>https://www.equityapartments.com/arlington/cou...</td>\n",
       "      <td>...</td>\n",
       "      <td>0.0</td>\n",
       "      <td>0.0</td>\n",
       "      <td>0.0</td>\n",
       "      <td>0.0</td>\n",
       "      <td>0.0</td>\n",
       "      <td>0.0</td>\n",
       "      <td>41.0</td>\n",
       "      <td>Sunday</td>\n",
       "      <td>NaN</td>\n",
       "      <td>0.032828</td>\n",
       "    </tr>\n",
       "    <tr>\n",
       "      <th>62808</th>\n",
       "      <td>62809</td>\n",
       "      <td>3158</td>\n",
       "      <td>2</td>\n",
       "      <td>2.0</td>\n",
       "      <td>1209</td>\n",
       "      <td>7</td>\n",
       "      <td>2021-08-21</td>\n",
       "      <td>NaN</td>\n",
       "      <td>NaN</td>\n",
       "      <td>https://www.equityapartments.com/arlington/cou...</td>\n",
       "      <td>...</td>\n",
       "      <td>0.0</td>\n",
       "      <td>0.0</td>\n",
       "      <td>0.0</td>\n",
       "      <td>0.0</td>\n",
       "      <td>0.0</td>\n",
       "      <td>0.0</td>\n",
       "      <td>66.0</td>\n",
       "      <td>Sunday</td>\n",
       "      <td>NaN</td>\n",
       "      <td>0.032828</td>\n",
       "    </tr>\n",
       "    <tr>\n",
       "      <th>62809</th>\n",
       "      <td>62810</td>\n",
       "      <td>3226</td>\n",
       "      <td>2</td>\n",
       "      <td>2.0</td>\n",
       "      <td>1080</td>\n",
       "      <td>18</td>\n",
       "      <td>2021-07-21</td>\n",
       "      <td>NaN</td>\n",
       "      <td>NaN</td>\n",
       "      <td>https://www.equityapartments.com/arlington/cou...</td>\n",
       "      <td>...</td>\n",
       "      <td>0.0</td>\n",
       "      <td>0.0</td>\n",
       "      <td>0.0</td>\n",
       "      <td>0.0</td>\n",
       "      <td>0.0</td>\n",
       "      <td>0.0</td>\n",
       "      <td>35.0</td>\n",
       "      <td>Sunday</td>\n",
       "      <td>NaN</td>\n",
       "      <td>0.032828</td>\n",
       "    </tr>\n",
       "  </tbody>\n",
       "</table>\n",
       "<p>62810 rows × 32 columns</p>\n",
       "</div>"
      ]
     },
     "metadata": {},
     "execution_count": 5
    }
   ],
   "metadata": {}
  },
  {
   "cell_type": "markdown",
   "source": [
    "Revisión de todos los valores nulos en la base de datos"
   ],
   "metadata": {}
  },
  {
   "cell_type": "code",
   "execution_count": null,
   "source": [
    "dat_ap.isnull()"
   ],
   "outputs": [],
   "metadata": {}
  },
  {
   "cell_type": "markdown",
   "source": [
    "Revisión de los valores nulos por columna"
   ],
   "metadata": {}
  },
  {
   "cell_type": "code",
   "execution_count": null,
   "source": [
    "dat_ap.isnull().sum()"
   ],
   "outputs": [],
   "metadata": {}
  },
  {
   "cell_type": "markdown",
   "source": [
    "Cambiando los datos nulos "
   ],
   "metadata": {}
  },
  {
   "cell_type": "code",
   "execution_count": null,
   "source": [
    "base_nonull = dat_ap.fillna(\"S/I\")"
   ],
   "outputs": [],
   "metadata": {}
  },
  {
   "cell_type": "markdown",
   "source": [
    "##  <font color = 'red'> Base secundaria </font>"
   ],
   "metadata": {}
  },
  {
   "cell_type": "markdown",
   "source": [
    "Abriendo la base de datos"
   ],
   "metadata": {}
  },
  {
   "cell_type": "code",
   "execution_count": 6,
   "source": [
    "dat_pas = pd.read_csv(\"pasteleria.csv\")"
   ],
   "outputs": [],
   "metadata": {}
  },
  {
   "cell_type": "markdown",
   "source": [
    "Dimensiones de la base de datos"
   ],
   "metadata": {}
  },
  {
   "cell_type": "code",
   "execution_count": 7,
   "source": [
    "dat_pas.shape"
   ],
   "outputs": [
    {
     "output_type": "execute_result",
     "data": {
      "text/plain": [
       "(20507, 5)"
      ]
     },
     "metadata": {},
     "execution_count": 7
    }
   ],
   "metadata": {}
  },
  {
   "cell_type": "markdown",
   "source": [
    "Vista de los primeros 5 datos "
   ],
   "metadata": {}
  },
  {
   "cell_type": "code",
   "execution_count": 8,
   "source": [
    "dat_pas.head()"
   ],
   "outputs": [
    {
     "output_type": "execute_result",
     "data": {
      "text/plain": [
       "   Transaction           Item         date_time period_day weekday_weekend\n",
       "0            1          Bread  30-10-2016 09:58    morning         weekend\n",
       "1            2   Scandinavian  30-10-2016 10:05    morning         weekend\n",
       "2            2   Scandinavian  30-10-2016 10:05    morning         weekend\n",
       "3            3  Hot chocolate  30-10-2016 10:07    morning         weekend\n",
       "4            3            Jam  30-10-2016 10:07    morning         weekend"
      ],
      "text/html": [
       "<div>\n",
       "<style scoped>\n",
       "    .dataframe tbody tr th:only-of-type {\n",
       "        vertical-align: middle;\n",
       "    }\n",
       "\n",
       "    .dataframe tbody tr th {\n",
       "        vertical-align: top;\n",
       "    }\n",
       "\n",
       "    .dataframe thead th {\n",
       "        text-align: right;\n",
       "    }\n",
       "</style>\n",
       "<table border=\"1\" class=\"dataframe\">\n",
       "  <thead>\n",
       "    <tr style=\"text-align: right;\">\n",
       "      <th></th>\n",
       "      <th>Transaction</th>\n",
       "      <th>Item</th>\n",
       "      <th>date_time</th>\n",
       "      <th>period_day</th>\n",
       "      <th>weekday_weekend</th>\n",
       "    </tr>\n",
       "  </thead>\n",
       "  <tbody>\n",
       "    <tr>\n",
       "      <th>0</th>\n",
       "      <td>1</td>\n",
       "      <td>Bread</td>\n",
       "      <td>30-10-2016 09:58</td>\n",
       "      <td>morning</td>\n",
       "      <td>weekend</td>\n",
       "    </tr>\n",
       "    <tr>\n",
       "      <th>1</th>\n",
       "      <td>2</td>\n",
       "      <td>Scandinavian</td>\n",
       "      <td>30-10-2016 10:05</td>\n",
       "      <td>morning</td>\n",
       "      <td>weekend</td>\n",
       "    </tr>\n",
       "    <tr>\n",
       "      <th>2</th>\n",
       "      <td>2</td>\n",
       "      <td>Scandinavian</td>\n",
       "      <td>30-10-2016 10:05</td>\n",
       "      <td>morning</td>\n",
       "      <td>weekend</td>\n",
       "    </tr>\n",
       "    <tr>\n",
       "      <th>3</th>\n",
       "      <td>3</td>\n",
       "      <td>Hot chocolate</td>\n",
       "      <td>30-10-2016 10:07</td>\n",
       "      <td>morning</td>\n",
       "      <td>weekend</td>\n",
       "    </tr>\n",
       "    <tr>\n",
       "      <th>4</th>\n",
       "      <td>3</td>\n",
       "      <td>Jam</td>\n",
       "      <td>30-10-2016 10:07</td>\n",
       "      <td>morning</td>\n",
       "      <td>weekend</td>\n",
       "    </tr>\n",
       "  </tbody>\n",
       "</table>\n",
       "</div>"
      ]
     },
     "metadata": {},
     "execution_count": 8
    }
   ],
   "metadata": {}
  },
  {
   "cell_type": "markdown",
   "source": [
    "Nombre de los encabezados en las columnas"
   ],
   "metadata": {}
  },
  {
   "cell_type": "code",
   "execution_count": 9,
   "source": [
    "dat_pas.dtypes"
   ],
   "outputs": [
    {
     "output_type": "execute_result",
     "data": {
      "text/plain": [
       "Transaction         int64\n",
       "Item               object\n",
       "date_time          object\n",
       "period_day         object\n",
       "weekday_weekend    object\n",
       "dtype: object"
      ]
     },
     "metadata": {},
     "execution_count": 9
    }
   ],
   "metadata": {}
  },
  {
   "cell_type": "markdown",
   "source": [
    "Revisando los datos nulos por columna"
   ],
   "metadata": {}
  },
  {
   "cell_type": "code",
   "execution_count": 10,
   "source": [
    "dat_pas.isnull().sum()"
   ],
   "outputs": [
    {
     "output_type": "execute_result",
     "data": {
      "text/plain": [
       "Transaction        0\n",
       "Item               0\n",
       "date_time          0\n",
       "period_day         0\n",
       "weekday_weekend    0\n",
       "dtype: int64"
      ]
     },
     "metadata": {},
     "execution_count": 10
    }
   ],
   "metadata": {}
  },
  {
   "cell_type": "markdown",
   "source": [
    "Por lo tanto la base de datos no cuenta con datos nulos"
   ],
   "metadata": {}
  }
 ],
 "metadata": {
  "kernelspec": {
   "name": "python3",
   "display_name": "Python 3.8.5 32-bit"
  },
  "language_info": {
   "codemirror_mode": {
    "name": "ipython",
    "version": 3
   },
   "file_extension": ".py",
   "mimetype": "text/x-python",
   "name": "python",
   "nbconvert_exporter": "python",
   "pygments_lexer": "ipython3",
   "version": "3.8.5"
  },
  "interpreter": {
   "hash": "b4888d3b5c863651ad31f3a361187baeed415aa71b5db246fbc6a2521406d8d3"
  }
 },
 "nbformat": 4,
 "nbformat_minor": 5
}