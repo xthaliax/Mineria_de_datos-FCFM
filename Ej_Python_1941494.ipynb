{
 "cells": [
  {
   "cell_type": "code",
   "execution_count": 6,
   "source": [
    "#Ejercicio 1\r\n",
    "\r\n",
    "mat=1941494\r\n",
    "\r\n",
    "cad=str(mat)+\"Thalía\"\r\n",
    "\r\n",
    "print(cad)"
   ],
   "outputs": [
    {
     "output_type": "stream",
     "name": "stdout",
     "text": [
      "1941494Thalía\n"
     ]
    }
   ],
   "metadata": {}
  },
  {
   "cell_type": "code",
   "execution_count": 17,
   "source": [
    "#Ejercicio 2\r\n",
    "\r\n",
    "num1=int(input(\"\\n Ingrese el primer numero \\n >> \"))\r\n",
    "num2=int(input(\"\\n Ingrese el segundo numero \\n >> \"))\r\n",
    "\r\n",
    "print(\"\\n\\n Seleccione la opción que desea\")\r\n",
    "print(\"1.- Suma \\n2.- Resta \\n3.- Multiplicación \\n4.- División \\n5.- Exponente\")\r\n",
    "op=int(input(\">> \"))\r\n",
    "\r\n",
    "if op==1:\r\n",
    "    res=num1+num2\r\n",
    "    print(\"\\n El resultado de la suma es : \",res)\r\n",
    "elif op==2:\r\n",
    "    res=num1-num2\r\n",
    "    print(\"\\n El resultado de la resta es : \",res)\r\n",
    "elif op==3:\r\n",
    "    res=num1*num2\r\n",
    "    print(\"\\n El resultado de la multiplicación es : \",res)\r\n",
    "elif op==4:\r\n",
    "    res=num1/num2\r\n",
    "    print(\"\\n El resultado de la división es : \",res)\r\n",
    "elif op==5:\r\n",
    "    res=num1**num2\r\n",
    "    print(\"\\n El resultado de la potencia es : \",res)\r\n",
    "else:\r\n",
    "    print(\"\\n\\n **Opción no valida**\")"
   ],
   "outputs": [
    {
     "output_type": "error",
     "ename": "ValueError",
     "evalue": "invalid literal for int() with base 10: ''",
     "traceback": [
      "\u001b[1;31m---------------------------------------------------------------------------\u001b[0m",
      "\u001b[1;31mValueError\u001b[0m                                Traceback (most recent call last)",
      "\u001b[1;32m~\\AppData\\Local\\Temp/ipykernel_2872/891825163.py\u001b[0m in \u001b[0;36m<module>\u001b[1;34m\u001b[0m\n\u001b[0;32m      1\u001b[0m \u001b[1;31m#Ejercicio 2\u001b[0m\u001b[1;33m\u001b[0m\u001b[1;33m\u001b[0m\u001b[1;33m\u001b[0m\u001b[0m\n\u001b[0;32m      2\u001b[0m \u001b[1;33m\u001b[0m\u001b[0m\n\u001b[1;32m----> 3\u001b[1;33m \u001b[0mnum1\u001b[0m\u001b[1;33m=\u001b[0m\u001b[0mint\u001b[0m\u001b[1;33m(\u001b[0m\u001b[0minput\u001b[0m\u001b[1;33m(\u001b[0m\u001b[1;34m\"\\n Ingrese el primer numero \\n >> \"\u001b[0m\u001b[1;33m)\u001b[0m\u001b[1;33m)\u001b[0m\u001b[1;33m\u001b[0m\u001b[1;33m\u001b[0m\u001b[0m\n\u001b[0m\u001b[0;32m      4\u001b[0m \u001b[0mnum2\u001b[0m\u001b[1;33m=\u001b[0m\u001b[0mint\u001b[0m\u001b[1;33m(\u001b[0m\u001b[0minput\u001b[0m\u001b[1;33m(\u001b[0m\u001b[1;34m\"\\n Ingrese el segundo numero \\n >> \"\u001b[0m\u001b[1;33m)\u001b[0m\u001b[1;33m)\u001b[0m\u001b[1;33m\u001b[0m\u001b[1;33m\u001b[0m\u001b[0m\n\u001b[0;32m      5\u001b[0m \u001b[1;33m\u001b[0m\u001b[0m\n",
      "\u001b[1;31mValueError\u001b[0m: invalid literal for int() with base 10: ''"
     ]
    }
   ],
   "metadata": {}
  },
  {
   "cell_type": "code",
   "execution_count": 23,
   "source": [
    "#Ejercicio 3\r\n",
    "\r\n",
    "nums=[0]*10\r\n",
    "\r\n",
    "for i in range(10):\r\n",
    "    nums[i]=(i+1)*3\r\n",
    "t=0\r\n",
    "for i in range(10):\r\n",
    "    t=t+nums[i]\r\n",
    "\r\n",
    "print(t)\r\n",
    "print(nums)"
   ],
   "outputs": [
    {
     "output_type": "stream",
     "name": "stdout",
     "text": [
      "165\n",
      "[3, 6, 9, 12, 15, 18, 21, 24, 27, 30]\n"
     ]
    }
   ],
   "metadata": {}
  },
  {
   "cell_type": "code",
   "execution_count": 24,
   "source": [
    "#Ejercicio 4\r\n",
    "\r\n",
    "n=int(input(\"\\n Introduzca un numero \\n >> \"))\r\n",
    "\r\n",
    "sit1=str()\r\n",
    "\r\n",
    "if n%2==0:\r\n",
    "    sit1=\"par\"\r\n",
    "else:\r\n",
    "    sit1=\"impar\"\r\n",
    "b=0\r\n",
    "for i in range(n):\r\n",
    "    if n%(i+1)==0:\r\n",
    "        b=b+1\r\n",
    "\r\n",
    "sit2=str()\r\n",
    "\r\n",
    "if b==2:\r\n",
    "    sit2=\"primo\"\r\n",
    "else: \r\n",
    "    sit2=\"no primo\"\r\n",
    "\r\n",
    "print(\"El numero ingresados es %s y es un numero %s\" %(sit1,sit2))\r\n",
    "\r\n"
   ],
   "outputs": [
    {
     "output_type": "error",
     "ename": "ValueError",
     "evalue": "invalid literal for int() with base 10: ''",
     "traceback": [
      "\u001b[1;31m---------------------------------------------------------------------------\u001b[0m",
      "\u001b[1;31mValueError\u001b[0m                                Traceback (most recent call last)",
      "\u001b[1;32m~\\AppData\\Local\\Temp/ipykernel_2872/1569229406.py\u001b[0m in \u001b[0;36m<module>\u001b[1;34m\u001b[0m\n\u001b[0;32m      1\u001b[0m \u001b[1;31m#Ejercicio 4\u001b[0m\u001b[1;33m\u001b[0m\u001b[1;33m\u001b[0m\u001b[1;33m\u001b[0m\u001b[0m\n\u001b[0;32m      2\u001b[0m \u001b[1;33m\u001b[0m\u001b[0m\n\u001b[1;32m----> 3\u001b[1;33m \u001b[0mn\u001b[0m\u001b[1;33m=\u001b[0m\u001b[0mint\u001b[0m\u001b[1;33m(\u001b[0m\u001b[0minput\u001b[0m\u001b[1;33m(\u001b[0m\u001b[1;34m\"\\n Introduzca un numero \\n >> \"\u001b[0m\u001b[1;33m)\u001b[0m\u001b[1;33m)\u001b[0m\u001b[1;33m\u001b[0m\u001b[1;33m\u001b[0m\u001b[0m\n\u001b[0m\u001b[0;32m      4\u001b[0m \u001b[1;33m\u001b[0m\u001b[0m\n\u001b[0;32m      5\u001b[0m \u001b[0msit1\u001b[0m\u001b[1;33m=\u001b[0m\u001b[0mstr\u001b[0m\u001b[1;33m(\u001b[0m\u001b[1;33m)\u001b[0m\u001b[1;33m\u001b[0m\u001b[1;33m\u001b[0m\u001b[0m\n",
      "\u001b[1;31mValueError\u001b[0m: invalid literal for int() with base 10: ''"
     ]
    }
   ],
   "metadata": {}
  },
  {
   "cell_type": "code",
   "execution_count": 1,
   "source": [
    "#Tuplas 1\r\n",
    "\r\n",
    "a=1.56767\r\n",
    "b=5\r\n",
    "c=True\r\n",
    "d=3+4j\r\n",
    "\r\n",
    "print(type(a))\r\n",
    "print(type(b))\r\n",
    "print(type(c))\r\n",
    "print(type(d))"
   ],
   "outputs": [
    {
     "output_type": "stream",
     "name": "stdout",
     "text": [
      "<class 'float'>\n",
      "<class 'int'>\n",
      "<class 'bool'>\n",
      "<class 'complex'>\n"
     ]
    }
   ],
   "metadata": {}
  },
  {
   "cell_type": "code",
   "execution_count": 19,
   "source": [
    "#Tuplas 2\r\n",
    "\r\n",
    "tup=(1,2,3,4,5,6,7,8)\r\n",
    "\r\n",
    "print(\"\\n Primer elemento : \",tup[0])\r\n",
    "print(\" Último elemento : \",tup[7])"
   ],
   "outputs": [
    {
     "output_type": "stream",
     "name": "stdout",
     "text": [
      "\n",
      " Primer elemento :  1\n",
      " Último elemento :  8\n"
     ]
    }
   ],
   "metadata": {}
  },
  {
   "cell_type": "code",
   "execution_count": 20,
   "source": [
    "#Tuplas 3\r\n",
    "\r\n",
    "aux=list(tup)\r\n",
    "\r\n",
    "aux.append(\"Thalía\")\r\n",
    "aux.append(\"Ruiz\")\r\n",
    "aux.append(\"Espitia\")\r\n",
    "\r\n",
    "tup=tuple(aux)\r\n",
    "\r\n",
    "print(\"\\n Tupla \\n >>>\",tup)"
   ],
   "outputs": [
    {
     "output_type": "stream",
     "name": "stdout",
     "text": [
      "\n",
      " Tupla \n",
      " >>> (1, 2, 3, 4, 5, 6, 7, 8, 'Thalía', 'Ruiz', 'Espitia')\n"
     ]
    }
   ],
   "metadata": {}
  },
  {
   "cell_type": "code",
   "execution_count": 21,
   "source": [
    "#Tuplas 4\r\n",
    "\r\n",
    "nom=\"Thalía\"\r\n",
    "\r\n",
    "print(\"\\n ¿El elemento se encuentra en la tupla? \\n >>\",nom in tup)"
   ],
   "outputs": [
    {
     "output_type": "stream",
     "name": "stdout",
     "text": [
      "\n",
      " ¿El elemento se encuentra en la tupla? \n",
      " >> True\n"
     ]
    }
   ],
   "metadata": {}
  },
  {
   "cell_type": "code",
   "execution_count": 22,
   "source": [
    "#Listas 1\r\n",
    "\r\n",
    "import random\r\n",
    "\r\n",
    "lst=[0]*40\r\n",
    "\r\n",
    "for i in range(40):\r\n",
    "    lst[i]=random.randrange(0,100)\r\n",
    "\r\n",
    "print(lst)"
   ],
   "outputs": [
    {
     "output_type": "stream",
     "name": "stdout",
     "text": [
      "40\n",
      "[61, 59, 89, 67, 46, 96, 35, 73, 76, 33, 55, 23, 37, 9, 52, 6, 76, 89, 39, 12, 90, 5, 52, 12, 4, 7, 44, 63, 95, 4, 53, 10, 91, 53, 58, 62, 24, 66, 64, 95]\n"
     ]
    }
   ],
   "metadata": {}
  },
  {
   "cell_type": "code",
   "execution_count": 23,
   "source": [
    "#Listas 2\r\n",
    "\r\n",
    "def sep_par(l):\r\n",
    "\r\n",
    "    x=list()\r\n",
    "\r\n",
    "    for i in range(40):\r\n",
    "\r\n",
    "        if l[i]%2==0:\r\n",
    "            x.append(l[i])\r\n",
    "    \r\n",
    "    return x\r\n",
    "\r\n",
    "def sep_impar(l):\r\n",
    "\r\n",
    "    x=list()\r\n",
    "\r\n",
    "    for i in range(40):\r\n",
    "\r\n",
    "        if l[i]%2!=0:\r\n",
    "            x.append(l[i])\r\n",
    "    \r\n",
    "    return x\r\n",
    "\r\n",
    "lst1=sep_par(lst)\r\n",
    "lst2=sep_impar(lst)\r\n",
    "\r\n",
    "print(lst1)\r\n",
    "\r\n",
    "print(lst2)"
   ],
   "outputs": [
    {
     "output_type": "stream",
     "name": "stdout",
     "text": [
      "[46, 96, 76, 52, 6, 76, 12, 90, 52, 12, 4, 44, 4, 10, 58, 62, 24, 66, 64]\n",
      "[61, 59, 89, 67, 35, 73, 33, 55, 23, 37, 9, 89, 39, 5, 7, 63, 95, 53, 91, 53, 95]\n"
     ]
    }
   ],
   "metadata": {}
  },
  {
   "cell_type": "code",
   "execution_count": 24,
   "source": [
    "#Listas 3\r\n",
    "\r\n",
    "lon1=len(lst1)\r\n",
    "lon2=len(lst2)\r\n",
    "\r\n",
    "print(lon1)\r\n",
    "print(lon2)"
   ],
   "outputs": [
    {
     "output_type": "stream",
     "name": "stdout",
     "text": [
      "19\n",
      "21\n"
     ]
    }
   ],
   "metadata": {}
  },
  {
   "cell_type": "code",
   "execution_count": 25,
   "source": [
    "#Listas 4\r\n",
    "\r\n",
    "lst1.sort(reverse=True)\r\n",
    "lst2.sort()\r\n",
    "\r\n",
    "print(lst1)\r\n",
    "print(lst2)\r\n"
   ],
   "outputs": [
    {
     "output_type": "stream",
     "name": "stdout",
     "text": [
      "[96, 90, 76, 76, 66, 64, 62, 58, 52, 52, 46, 44, 24, 12, 12, 10, 6, 4, 4]\n",
      "[5, 7, 9, 23, 33, 35, 37, 39, 53, 53, 55, 59, 61, 63, 67, 73, 89, 89, 91, 95, 95]\n"
     ]
    }
   ],
   "metadata": {}
  },
  {
   "cell_type": "code",
   "execution_count": 26,
   "source": [
    "#Listas 5\r\n",
    "\r\n",
    "lst.reverse()\r\n",
    "\r\n",
    "print(lst)\r\n",
    "\r\n",
    "y=lst.count(29)\r\n",
    "\r\n",
    "print(y)\r\n",
    "\r\n",
    "lst.insert(2,100)\r\n",
    "\r\n",
    "print(lst)\r\n",
    "\r\n",
    "lst.clear()\r\n",
    "\r\n",
    "print(lst)\r\n"
   ],
   "outputs": [
    {
     "output_type": "stream",
     "name": "stdout",
     "text": [
      "[95, 64, 66, 24, 62, 58, 53, 91, 10, 53, 4, 95, 63, 44, 7, 4, 12, 52, 5, 90, 12, 39, 89, 76, 6, 52, 9, 37, 23, 55, 33, 76, 73, 35, 96, 46, 67, 89, 59, 61]\n",
      "0\n",
      "[95, 64, 100, 66, 24, 62, 58, 53, 91, 10, 53, 4, 95, 63, 44, 7, 4, 12, 52, 5, 90, 12, 39, 89, 76, 6, 52, 9, 37, 23, 55, 33, 76, 73, 35, 96, 46, 67, 89, 59, 61]\n",
      "[]\n"
     ]
    }
   ],
   "metadata": {}
  },
  {
   "cell_type": "code",
   "execution_count": 27,
   "source": [
    "#Diccionarios 1\r\n",
    "\r\n",
    "dicc={\"Jesús\":15,\"Thalía\":21,\"Mary\":45,\"Salvador\":52,\"Vicky\":15}\r\n",
    "\r\n",
    "print(dicc)"
   ],
   "outputs": [
    {
     "output_type": "stream",
     "name": "stdout",
     "text": [
      "{'Jesús': 15, 'Thalía': 21, 'Mary': 45, 'Salvador': 52, 'Vicky': 15}\n"
     ]
    }
   ],
   "metadata": {}
  },
  {
   "cell_type": "code",
   "execution_count": 28,
   "source": [
    "#Diccionarios 2\r\n",
    "\r\n",
    "val=list(dicc.values())\r\n",
    "\r\n",
    "val.sort()\r\n",
    "\r\n",
    "print(val)\r\n"
   ],
   "outputs": [
    {
     "output_type": "stream",
     "name": "stdout",
     "text": [
      "[15, 15, 21, 45, 52]\n"
     ]
    }
   ],
   "metadata": {}
  },
  {
   "cell_type": "code",
   "execution_count": 29,
   "source": [
    "#Diccionarios 3\r\n",
    "\r\n",
    "for key in dicc:\r\n",
    "    print(key)"
   ],
   "outputs": [
    {
     "output_type": "stream",
     "name": "stdout",
     "text": [
      "Jesús\n",
      "Thalía\n",
      "Mary\n",
      "Salvador\n",
      "Vicky\n"
     ]
    }
   ],
   "metadata": {}
  },
  {
   "cell_type": "code",
   "execution_count": 30,
   "source": [
    "#Diccionarios 4\r\n",
    "\r\n",
    "dicc[\"David\"]=14\r\n",
    "dicc[\"Gabriel\"]=11\r\n",
    "\r\n",
    "print(dicc)"
   ],
   "outputs": [
    {
     "output_type": "stream",
     "name": "stdout",
     "text": [
      "{'Jesús': 15, 'Thalía': 21, 'Mary': 45, 'Salvador': 52, 'Vicky': 15, 'David': 14, 'Gabriel': 11}\n"
     ]
    }
   ],
   "metadata": {}
  },
  {
   "cell_type": "code",
   "execution_count": 31,
   "source": [
    "#Sets 1\r\n",
    "\r\n",
    "st=set()\r\n",
    "\r\n",
    "for i in range(100):\r\n",
    "    st.add(random.randrange(1,26))\r\n",
    "\r\n",
    "print(st)\r\n"
   ],
   "outputs": [
    {
     "output_type": "stream",
     "name": "stdout",
     "text": [
      "{1, 2, 3, 4, 5, 6, 7, 8, 9, 10, 11, 12, 14, 15, 16, 17, 18, 19, 20, 21, 22, 23, 24, 25}\n"
     ]
    }
   ],
   "metadata": {}
  },
  {
   "cell_type": "code",
   "execution_count": 32,
   "source": [
    "#Sets 2\r\n",
    "\r\n",
    "print(len(st))"
   ],
   "outputs": [
    {
     "output_type": "stream",
     "name": "stdout",
     "text": [
      "24\n"
     ]
    }
   ],
   "metadata": {}
  },
  {
   "cell_type": "code",
   "execution_count": 33,
   "source": [
    "#Sets 3\r\n",
    "\r\n",
    "comp=[0]*5\r\n",
    "\r\n",
    "for i in range(5):\r\n",
    "    comp[i]=random.randrange(1,11)\r\n",
    "    if comp[i] in st:\r\n",
    "        print(\"El valor %d aparece en el set inicial\"%comp[i])\r\n",
    "    else:\r\n",
    "        print(\"El valor %d no aparece en el set inicial\"%comp[i])\r\n"
   ],
   "outputs": [
    {
     "output_type": "stream",
     "name": "stdout",
     "text": [
      "El valor 2 aparece en el set inicial\n",
      "El valor 8 aparece en el set inicial\n",
      "El valor 5 aparece en el set inicial\n",
      "El valor 5 aparece en el set inicial\n",
      "El valor 7 aparece en el set inicial\n"
     ]
    }
   ],
   "metadata": {}
  }
 ],
 "metadata": {
  "orig_nbformat": 4,
  "language_info": {
   "name": "python",
   "version": "3.8.5",
   "mimetype": "text/x-python",
   "codemirror_mode": {
    "name": "ipython",
    "version": 3
   },
   "pygments_lexer": "ipython3",
   "nbconvert_exporter": "python",
   "file_extension": ".py"
  },
  "kernelspec": {
   "name": "python3",
   "display_name": "Python 3.8.5 32-bit"
  },
  "interpreter": {
   "hash": "b4888d3b5c863651ad31f3a361187baeed415aa71b5db246fbc6a2521406d8d3"
  }
 },
 "nbformat": 4,
 "nbformat_minor": 2
}