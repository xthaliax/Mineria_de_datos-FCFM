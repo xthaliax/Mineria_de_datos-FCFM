{
 "cells": [
  {
   "cell_type": "code",
   "execution_count": 2,
   "source": [
    "#Tuplas 1\r\n",
    "\r\n",
    "a=1.56767\r\n",
    "b=5\r\n",
    "c=True\r\n",
    "d=3+4j\r\n",
    "\r\n",
    "print(type(a))\r\n",
    "print(type(b))\r\n",
    "print(type(c))\r\n",
    "print(type(d))"
   ],
   "outputs": [
    {
     "output_type": "stream",
     "name": "stdout",
     "text": [
      "<class 'float'>\n",
      "<class 'int'>\n",
      "<class 'bool'>\n",
      "<class 'complex'>\n"
     ]
    }
   ],
   "metadata": {}
  },
  {
   "cell_type": "code",
   "execution_count": 3,
   "source": [
    "#Tuplas 2\r\n",
    "\r\n",
    "tup=(1,2,3,4,5,6,7,8)\r\n",
    "\r\n",
    "print(\"\\n Primer elemento : \",tup[0])\r\n",
    "print(\" Último elemento : \",tup[7])"
   ],
   "outputs": [
    {
     "output_type": "stream",
     "name": "stdout",
     "text": [
      "\n",
      " Primer elemento :  1\n",
      " Último elemento :  8\n"
     ]
    }
   ],
   "metadata": {}
  },
  {
   "cell_type": "code",
   "execution_count": 4,
   "source": [
    "#Tuplas 3\r\n",
    "\r\n",
    "aux=list(tup)\r\n",
    "\r\n",
    "aux.append(\"Thalía\")\r\n",
    "aux.append(\"Ruiz\")\r\n",
    "aux.append(\"Espitia\")\r\n",
    "\r\n",
    "tup=tuple(aux)\r\n",
    "\r\n",
    "print(\"\\n Tupla \\n >>>\",tup)"
   ],
   "outputs": [
    {
     "output_type": "stream",
     "name": "stdout",
     "text": [
      "\n",
      " Tupla \n",
      " >>> (1, 2, 3, 4, 5, 6, 7, 8, 'Thalía', 'Ruiz', 'Espitia')\n"
     ]
    }
   ],
   "metadata": {}
  },
  {
   "cell_type": "code",
   "execution_count": 5,
   "source": [
    "#Tuplas 4\r\n",
    "\r\n",
    "nom=\"Thalía\"\r\n",
    "\r\n",
    "print(\"\\n ¿El elemento se encuentra en la tupla? \\n >>\",nom in tup)"
   ],
   "outputs": [
    {
     "output_type": "stream",
     "name": "stdout",
     "text": [
      "\n",
      " ¿El elemento se encuentra en la tupla? \n",
      " >> True\n"
     ]
    }
   ],
   "metadata": {}
  },
  {
   "cell_type": "code",
   "execution_count": 6,
   "source": [
    "#Listas 1\r\n",
    "\r\n",
    "import random\r\n",
    "\r\n",
    "lst=[0]*40\r\n",
    "\r\n",
    "for i in range(40):\r\n",
    "    lst[i]=random.randrange(0,100)\r\n",
    "\r\n",
    "print(len(lst))\r\n",
    "print(lst)"
   ],
   "outputs": [
    {
     "output_type": "stream",
     "name": "stdout",
     "text": [
      "40\n",
      "[10, 61, 82, 32, 84, 21, 79, 33, 50, 46, 92, 56, 10, 17, 72, 47, 36, 65, 93, 88, 2, 57, 12, 51, 32, 89, 66, 91, 29, 67, 44, 98, 0, 0, 65, 5, 35, 72, 31, 97]\n"
     ]
    }
   ],
   "metadata": {}
  },
  {
   "cell_type": "code",
   "execution_count": 7,
   "source": [
    "#Listas 2\r\n",
    "\r\n",
    "def sep_par(l):\r\n",
    "\r\n",
    "    x=list()\r\n",
    "\r\n",
    "    for i in range(40):\r\n",
    "\r\n",
    "        if l[i]%2==0:\r\n",
    "            x.append(l[i])\r\n",
    "    \r\n",
    "    return x\r\n",
    "\r\n",
    "def sep_impar(l):\r\n",
    "\r\n",
    "    x=list()\r\n",
    "\r\n",
    "    for i in range(40):\r\n",
    "\r\n",
    "        if l[i]%2!=0:\r\n",
    "            x.append(l[i])\r\n",
    "    \r\n",
    "    return x\r\n",
    "\r\n",
    "lst1=sep_par(lst)\r\n",
    "lst2=sep_impar(lst)\r\n",
    "\r\n",
    "print(lst1)\r\n",
    "\r\n",
    "print(lst2)"
   ],
   "outputs": [
    {
     "output_type": "stream",
     "name": "stdout",
     "text": [
      "[10, 82, 32, 84, 50, 46, 92, 56, 10, 72, 36, 88, 2, 12, 32, 66, 44, 98, 0, 0, 72]\n",
      "[61, 21, 79, 33, 17, 47, 65, 93, 57, 51, 89, 91, 29, 67, 65, 5, 35, 31, 97]\n"
     ]
    }
   ],
   "metadata": {}
  },
  {
   "cell_type": "code",
   "execution_count": 8,
   "source": [
    "#Listas 3\r\n",
    "\r\n",
    "lon1=len(lst1)\r\n",
    "lon2=len(lst2)\r\n",
    "\r\n",
    "print(lon1)\r\n",
    "print(lon2)"
   ],
   "outputs": [
    {
     "output_type": "stream",
     "name": "stdout",
     "text": [
      "21\n",
      "19\n"
     ]
    }
   ],
   "metadata": {}
  },
  {
   "cell_type": "code",
   "execution_count": 9,
   "source": [
    "#Listas 4\r\n",
    "\r\n",
    "lst1.sort(reverse=True)\r\n",
    "lst2.sort()\r\n",
    "\r\n",
    "print(lst1)\r\n",
    "print(lst2)\r\n"
   ],
   "outputs": [
    {
     "output_type": "stream",
     "name": "stdout",
     "text": [
      "[98, 92, 88, 84, 82, 72, 72, 66, 56, 50, 46, 44, 36, 32, 32, 12, 10, 10, 2, 0, 0]\n",
      "[5, 17, 21, 29, 31, 33, 35, 47, 51, 57, 61, 65, 65, 67, 79, 89, 91, 93, 97]\n"
     ]
    }
   ],
   "metadata": {}
  },
  {
   "cell_type": "code",
   "execution_count": 10,
   "source": [
    "#Listas 5\r\n",
    "\r\n",
    "lst.reverse()\r\n",
    "\r\n",
    "print(lst)\r\n",
    "\r\n",
    "y=lst.count(29)\r\n",
    "\r\n",
    "print(y)\r\n",
    "\r\n",
    "lst.insert(2,100)\r\n",
    "\r\n",
    "print(lst)\r\n",
    "\r\n",
    "lst.clear()\r\n",
    "\r\n",
    "print(lst)\r\n"
   ],
   "outputs": [
    {
     "output_type": "stream",
     "name": "stdout",
     "text": [
      "[97, 31, 72, 35, 5, 65, 0, 0, 98, 44, 67, 29, 91, 66, 89, 32, 51, 12, 57, 2, 88, 93, 65, 36, 47, 72, 17, 10, 56, 92, 46, 50, 33, 79, 21, 84, 32, 82, 61, 10]\n",
      "1\n",
      "[97, 31, 100, 72, 35, 5, 65, 0, 0, 98, 44, 67, 29, 91, 66, 89, 32, 51, 12, 57, 2, 88, 93, 65, 36, 47, 72, 17, 10, 56, 92, 46, 50, 33, 79, 21, 84, 32, 82, 61, 10]\n",
      "[]\n"
     ]
    }
   ],
   "metadata": {}
  },
  {
   "cell_type": "code",
   "execution_count": 11,
   "source": [
    "#Diccionarios 1\r\n",
    "\r\n",
    "dicc={\"Jesús\":15,\"Thalía\":21,\"Mary\":45,\"Salvador\":52,\"Vicky\":15}\r\n",
    "\r\n",
    "print(dicc)"
   ],
   "outputs": [
    {
     "output_type": "stream",
     "name": "stdout",
     "text": [
      "{'Jesús': 15, 'Thalía': 21, 'Mary': 45, 'Salvador': 52, 'Vicky': 15}\n"
     ]
    }
   ],
   "metadata": {}
  },
  {
   "cell_type": "code",
   "execution_count": 12,
   "source": [
    "#Diccionarios 2\r\n",
    "\r\n",
    "val=list(dicc.values())\r\n",
    "\r\n",
    "val.sort()\r\n",
    "\r\n",
    "print(val)\r\n"
   ],
   "outputs": [
    {
     "output_type": "stream",
     "name": "stdout",
     "text": [
      "[15, 15, 21, 45, 52]\n"
     ]
    }
   ],
   "metadata": {}
  },
  {
   "cell_type": "code",
   "execution_count": 13,
   "source": [
    "#Diccionarios 3\r\n",
    "\r\n",
    "for key in dicc:\r\n",
    "    print(key)"
   ],
   "outputs": [
    {
     "output_type": "stream",
     "name": "stdout",
     "text": [
      "Jesús\n",
      "Thalía\n",
      "Mary\n",
      "Salvador\n",
      "Vicky\n"
     ]
    }
   ],
   "metadata": {}
  },
  {
   "cell_type": "code",
   "execution_count": 14,
   "source": [
    "#Diccionarios 4\r\n",
    "\r\n",
    "dicc[\"David\"]=14\r\n",
    "dicc[\"Gabriel\"]=11\r\n",
    "\r\n",
    "print(dicc)"
   ],
   "outputs": [
    {
     "output_type": "stream",
     "name": "stdout",
     "text": [
      "{'Jesús': 15, 'Thalía': 21, 'Mary': 45, 'Salvador': 52, 'Vicky': 15, 'David': 14, 'Gabriel': 11}\n"
     ]
    }
   ],
   "metadata": {}
  },
  {
   "cell_type": "code",
   "execution_count": 15,
   "source": [
    "#Sets 1\r\n",
    "\r\n",
    "st=set()\r\n",
    "\r\n",
    "for i in range(100):\r\n",
    "    st.add(random.randrange(1,26))\r\n",
    "\r\n",
    "print(st)\r\n"
   ],
   "outputs": [
    {
     "output_type": "stream",
     "name": "stdout",
     "text": [
      "{1, 2, 3, 4, 5, 6, 7, 8, 9, 10, 11, 12, 13, 14, 15, 16, 17, 18, 19, 20, 21, 22, 23, 24, 25}\n"
     ]
    }
   ],
   "metadata": {}
  },
  {
   "cell_type": "code",
   "execution_count": 16,
   "source": [
    "#Sets 2\r\n",
    "\r\n",
    "print(len(st))"
   ],
   "outputs": [
    {
     "output_type": "stream",
     "name": "stdout",
     "text": [
      "25\n"
     ]
    }
   ],
   "metadata": {}
  },
  {
   "cell_type": "code",
   "execution_count": 17,
   "source": [
    "#Sets 3\r\n",
    "\r\n",
    "comp=[0]*5\r\n",
    "\r\n",
    "for i in range(5):\r\n",
    "    comp[i]=random.randrange(1,11)\r\n",
    "    if comp[i] in st:\r\n",
    "        print(\"El valor %d aparece en el set inicial\"%comp[i])\r\n",
    "    else:\r\n",
    "        print(\"El valor %d no aparece en el set inicial\"%comp[i])\r\n"
   ],
   "outputs": [
    {
     "output_type": "stream",
     "name": "stdout",
     "text": [
      "El valor 10 aparece en el set inicial\n",
      "El valor 6 aparece en el set inicial\n",
      "El valor 4 aparece en el set inicial\n",
      "El valor 1 aparece en el set inicial\n",
      "El valor 4 aparece en el set inicial\n"
     ]
    }
   ],
   "metadata": {}
  }
 ],
 "metadata": {
  "orig_nbformat": 4,
  "language_info": {
   "name": "python",
   "version": "3.8.5",
   "mimetype": "text/x-python",
   "codemirror_mode": {
    "name": "ipython",
    "version": 3
   },
   "pygments_lexer": "ipython3",
   "nbconvert_exporter": "python",
   "file_extension": ".py"
  },
  "kernelspec": {
   "name": "python3",
   "display_name": "Python 3.8.5 32-bit"
  },
  "interpreter": {
   "hash": "b4888d3b5c863651ad31f3a361187baeed415aa71b5db246fbc6a2521406d8d3"
  }
 },
 "nbformat": 4,
 "nbformat_minor": 2
}